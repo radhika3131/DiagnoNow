{
 "cells": [
  {
   "cell_type": "code",
   "execution_count": 29,
   "id": "da421e71",
   "metadata": {},
   "outputs": [],
   "source": [
    "from tensorflow.keras.layers import Conv2D,Flatten,Dense,MaxPooling2D,Dropout,Activation\n",
    "from tensorflow.keras.preprocessing.image import ImageDataGenerator\n",
    "from tensorflow.keras.models import Sequential\n",
    "from tensorflow.keras.callbacks import EarlyStopping"
   ]
  },
  {
   "cell_type": "code",
   "execution_count": 2,
   "id": "19bd2b6d",
   "metadata": {},
   "outputs": [],
   "source": [
    "train_dir = 'chest_xray/train/'\n",
    "val_dir = 'chest_xray/val/'\n",
    "test_dir = 'chest_xray/test'"
   ]
  },
  {
   "cell_type": "code",
   "execution_count": 33,
   "id": "0d653c38",
   "metadata": {},
   "outputs": [],
   "source": [
    "batch_size = 16\n",
    "epochs = 20\n",
    "img_height,img_width = 150,150\n",
    "nb_train_samples = 5217\n",
    "nb_validation_samples = 17"
   ]
  },
  {
   "cell_type": "code",
   "execution_count": 18,
   "id": "f127e8db",
   "metadata": {},
   "outputs": [],
   "source": [
    "train_datagen = ImageDataGenerator(rescale=1./255,\n",
    "                                  shear_range=0.2,\n",
    "                                  zoom_range=0.2,\n",
    "                                  horizontal_flip=True)\n",
    "\n",
    "test_datagen = ImageDataGenerator(rescale=1./255)"
   ]
  },
  {
   "cell_type": "code",
   "execution_count": 19,
   "id": "b62f46aa",
   "metadata": {},
   "outputs": [
    {
     "name": "stdout",
     "output_type": "stream",
     "text": [
      "Found 5216 images belonging to 2 classes.\n",
      "Found 16 images belonging to 2 classes.\n",
      "Found 624 images belonging to 2 classes.\n"
     ]
    }
   ],
   "source": [
    "train_data = train_datagen.flow_from_directory(train_dir,\n",
    "                                               target_size=(img_height,img_width),\n",
    "                                               batch_size=batch_size,\n",
    "                                               class_mode='binary')\n",
    "\n",
    "val_data = test_datagen.flow_from_directory(val_dir,\n",
    "                                               target_size=(img_height,img_width),\n",
    "                                               batch_size=batch_size,\n",
    "                                               class_mode='binary')\n",
    "\n",
    "test_data = test_datagen.flow_from_directory(test_dir,\n",
    "                                               target_size=(img_height,img_width),\n",
    "                                               batch_size=batch_size,\n",
    "                                               class_mode='binary')"
   ]
  },
  {
   "cell_type": "code",
   "execution_count": 25,
   "id": "a3e11a11",
   "metadata": {},
   "outputs": [
    {
     "name": "stdout",
     "output_type": "stream",
     "text": [
      "Model: \"sequential_8\"\n",
      "_________________________________________________________________\n",
      "Layer (type)                 Output Shape              Param #   \n",
      "=================================================================\n",
      "conv2d_16 (Conv2D)           (None, 148, 148, 32)      896       \n",
      "_________________________________________________________________\n",
      "max_pooling2d_13 (MaxPooling (None, 74, 74, 32)        0         \n",
      "_________________________________________________________________\n",
      "conv2d_17 (Conv2D)           (None, 72, 72, 32)        9248      \n",
      "_________________________________________________________________\n",
      "max_pooling2d_14 (MaxPooling (None, 36, 36, 32)        0         \n",
      "_________________________________________________________________\n",
      "conv2d_18 (Conv2D)           (None, 34, 34, 64)        18496     \n",
      "_________________________________________________________________\n",
      "max_pooling2d_15 (MaxPooling (None, 17, 17, 64)        0         \n",
      "_________________________________________________________________\n",
      "flatten_4 (Flatten)          (None, 18496)             0         \n",
      "_________________________________________________________________\n",
      "dense_6 (Dense)              (None, 64)                1183808   \n",
      "_________________________________________________________________\n",
      "activation_3 (Activation)    (None, 64)                0         \n",
      "_________________________________________________________________\n",
      "dropout_2 (Dropout)          (None, 64)                0         \n",
      "_________________________________________________________________\n",
      "dense_7 (Dense)              (None, 1)                 65        \n",
      "_________________________________________________________________\n",
      "activation_4 (Activation)    (None, 1)                 0         \n",
      "=================================================================\n",
      "Total params: 1,212,513\n",
      "Trainable params: 1,212,513\n",
      "Non-trainable params: 0\n",
      "_________________________________________________________________\n"
     ]
    }
   ],
   "source": [
    "model = Sequential()\n",
    "\n",
    "model.add(Conv2D(32,(3,3),input_shape=(img_height,img_width,3),activation = 'relu'))\n",
    "model.add(MaxPooling2D(pool_size=(2,2)))\n",
    "\n",
    "model.add(Conv2D(32,(3,3),activation = 'relu'))\n",
    "model.add(MaxPooling2D(pool_size=(2,2)))\n",
    "\n",
    "model.add(Conv2D(64,(3,3),activation = 'relu'))\n",
    "model.add(MaxPooling2D(pool_size=(2,2)))\n",
    "\n",
    "model.add(Flatten())\n",
    "model.add(Dense(64))\n",
    "model.add(Activation('relu'))\n",
    "model.add(Dropout(0.5))\n",
    "\n",
    "model.add(Dense(1))\n",
    "model.add(Activation('sigmoid'))\n",
    "\n",
    "model.summary()"
   ]
  },
  {
   "cell_type": "code",
   "execution_count": 30,
   "id": "04b27eae",
   "metadata": {},
   "outputs": [],
   "source": [
    "model.compile(loss='binary_crossentropy',\n",
    "              metrics=['accuracy'],\n",
    "              optimizer='rmsprop')\n",
    "\n",
    "early_stopping = EarlyStopping(monitor=\"val_loss\",\n",
    "                                patience=6,\n",
    "                                verbose=1,\n",
    "                                restore_best_weights=True,\n",
    "                                )"
   ]
  },
  {
   "cell_type": "code",
   "execution_count": 34,
   "id": "b4b39305",
   "metadata": {},
   "outputs": [
    {
     "name": "stdout",
     "output_type": "stream",
     "text": [
      "Epoch 1/20\n",
      "326/326 [==============================] - 125s 383ms/step - loss: 0.1994 - accuracy: 0.9296 - val_loss: 0.5956 - val_accuracy: 0.7500\n",
      "Epoch 2/20\n",
      "326/326 [==============================] - 126s 387ms/step - loss: 0.1842 - accuracy: 0.9348 - val_loss: 1.3966 - val_accuracy: 0.6250\n",
      "Epoch 3/20\n",
      "326/326 [==============================] - 127s 388ms/step - loss: 0.1773 - accuracy: 0.9344 - val_loss: 0.5820 - val_accuracy: 0.7500\n",
      "Epoch 4/20\n",
      "326/326 [==============================] - 126s 387ms/step - loss: 0.1840 - accuracy: 0.9375 - val_loss: 0.7920 - val_accuracy: 0.6875\n",
      "Epoch 5/20\n",
      "326/326 [==============================] - 126s 388ms/step - loss: 0.2058 - accuracy: 0.9356 - val_loss: 0.9471 - val_accuracy: 0.6875\n",
      "Epoch 6/20\n",
      "326/326 [==============================] - 126s 387ms/step - loss: 0.1815 - accuracy: 0.9404 - val_loss: 2.3464 - val_accuracy: 0.6875\n",
      "Epoch 7/20\n",
      "326/326 [==============================] - 126s 386ms/step - loss: 0.1895 - accuracy: 0.9411 - val_loss: 1.3707 - val_accuracy: 0.6875\n",
      "Epoch 8/20\n",
      "326/326 [==============================] - 126s 386ms/step - loss: 0.1911 - accuracy: 0.9396 - val_loss: 0.9979 - val_accuracy: 0.6875\n",
      "Epoch 9/20\n",
      "326/326 [==============================] - 162s 498ms/step - loss: 0.1683 - accuracy: 0.9415 - val_loss: 0.8270 - val_accuracy: 0.6875\n",
      "Epoch 10/20\n",
      "326/326 [==============================] - 139s 428ms/step - loss: 0.1774 - accuracy: 0.9456 - val_loss: 0.8479 - val_accuracy: 0.6250\n",
      "Epoch 11/20\n",
      "326/326 [==============================] - 140s 429ms/step - loss: 0.1725 - accuracy: 0.9385 - val_loss: 0.3393 - val_accuracy: 0.7500\n",
      "Epoch 12/20\n",
      "326/326 [==============================] - 141s 433ms/step - loss: 0.1650 - accuracy: 0.9498 - val_loss: 1.2966 - val_accuracy: 0.6875\n",
      "Epoch 13/20\n",
      "326/326 [==============================] - 147s 452ms/step - loss: 0.1676 - accuracy: 0.9473 - val_loss: 1.3656 - val_accuracy: 0.6250\n",
      "Epoch 14/20\n",
      "326/326 [==============================] - 139s 427ms/step - loss: 0.1651 - accuracy: 0.9469 - val_loss: 1.8027 - val_accuracy: 0.6875\n",
      "Epoch 15/20\n",
      "326/326 [==============================] - 149s 456ms/step - loss: 0.1796 - accuracy: 0.9442 - val_loss: 2.8015 - val_accuracy: 0.6250\n",
      "Epoch 16/20\n",
      "326/326 [==============================] - 133s 408ms/step - loss: 0.1632 - accuracy: 0.9442 - val_loss: 2.7266 - val_accuracy: 0.6250\n",
      "Epoch 17/20\n",
      "326/326 [==============================] - 137s 421ms/step - loss: 0.1698 - accuracy: 0.9440 - val_loss: 0.8287 - val_accuracy: 0.6875\n",
      "Epoch 18/20\n",
      "326/326 [==============================] - 132s 406ms/step - loss: 0.1674 - accuracy: 0.9482 - val_loss: 0.9261 - val_accuracy: 0.6875\n",
      "Epoch 19/20\n",
      "326/326 [==============================] - 122s 375ms/step - loss: 0.1661 - accuracy: 0.9461 - val_loss: 1.5587 - val_accuracy: 0.6250\n",
      "Epoch 20/20\n",
      "326/326 [==============================] - 121s 372ms/step - loss: 0.1585 - accuracy: 0.9486 - val_loss: 1.0181 - val_accuracy: 0.7500\n"
     ]
    }
   ],
   "source": [
    "history = model.fit(train_data,\n",
    "                  epochs=epochs,\n",
    "                  steps_per_epoch = nb_train_samples//batch_size,\n",
    "                  validation_data=val_data,\n",
    "                  validation_steps=nb_validation_samples//batch_size,\n",
    "                 )\n",
    "model.save('pneumonia_model.h5')"
   ]
  },
  {
   "cell_type": "code",
   "execution_count": 32,
   "id": "58440fbe",
   "metadata": {},
   "outputs": [],
   "source": []
  },
  {
   "cell_type": "code",
   "execution_count": null,
   "id": "9434954e",
   "metadata": {},
   "outputs": [],
   "source": []
  }
 ],
 "metadata": {
  "kernelspec": {
   "display_name": "Python 3",
   "language": "python",
   "name": "python3"
  },
  "language_info": {
   "codemirror_mode": {
    "name": "ipython",
    "version": 3
   },
   "file_extension": ".py",
   "mimetype": "text/x-python",
   "name": "python",
   "nbconvert_exporter": "python",
   "pygments_lexer": "ipython3",
   "version": "3.7.10"
  }
 },
 "nbformat": 4,
 "nbformat_minor": 5
}
